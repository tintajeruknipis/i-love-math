{
  "nbformat": 4,
  "nbformat_minor": 0,
  "metadata": {
    "colab": {
      "provenance": [],
      "authorship_tag": "ABX9TyOsVKsXKxJNfPoenYx5zn/G",
      "include_colab_link": true
    },
    "kernelspec": {
      "name": "python3",
      "display_name": "Python 3"
    },
    "language_info": {
      "name": "python"
    }
  },
  "cells": [
    {
      "cell_type": "markdown",
      "metadata": {
        "id": "view-in-github",
        "colab_type": "text"
      },
      "source": [
        "<a href=\"https://colab.research.google.com/github/tintajeruknipis/i-love-math/blob/main/Untitled5.ipynb\" target=\"_parent\"><img src=\"https://colab.research.google.com/assets/colab-badge.svg\" alt=\"Open In Colab\"/></a>"
      ]
    },
    {
      "cell_type": "code",
      "execution_count": null,
      "metadata": {
        "id": "zgEm595Kfmb3"
      },
      "outputs": [],
      "source": [
        "<!DOCTYPE html>\n",
        "<html lang=\"id\">\n",
        "<head>\n",
        "  <meta charset=\"UTF-8\" />\n",
        "  <meta name=\"viewport\" content=\"width=device-width, initial-scale=1.0\"/>\n",
        "  <title>Visualisasi Bangun Ruang 3D</title>\n",
        "  <link rel=\"stylesheet\" href=\"style.css\" />\n",
        "</head>\n",
        "<body>\n",
        "  <header>\n",
        "    <h1>Visualisasi Bangun Ruang 3D</h1>\n",
        "  </header>\n",
        "\n",
        "  <main>\n",
        "    <nav id=\"menu\">\n",
        "      <button onclick=\"selectShape('kubus')\">Kubus</button>\n",
        "      <button onclick=\"selectShape('balok')\">Balok</button>\n",
        "      <button onclick=\"selectShape('prisma')\">Prisma</button>\n",
        "      <button onclick=\"selectShape('limas')\">Limas</button>\n",
        "      <button onclick=\"selectShape('tabung')\">Tabung</button>\n",
        "      <button onclick=\"selectShape('kerucut')\">Kerucut</button>\n",
        "    </nav>\n",
        "\n",
        "    <div id=\"sub-menu\"></div>\n",
        "    <div id=\"controls\" style=\"display: none;\">\n",
        "      <button onclick=\"toggleNet()\">Buka/Tutup Jaring-jaring</button>\n",
        "    </div>\n",
        "\n",
        "    <section id=\"canvas-container\"></section>\n",
        "  </main>\n",
        "\n",
        "  <script src=\"https://cdnjs.cloudflare.com/ajax/libs/three.js/r148/three.min.js\"></script>\n",
        "  <script src=\"script.js\"></script>\n",
        "</body>\n",
        "</html>"
      ]
    }
  ]
}